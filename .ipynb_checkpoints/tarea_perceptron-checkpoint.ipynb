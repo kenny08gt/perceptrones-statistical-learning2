{
 "cells": [
  {
   "cell_type": "markdown",
   "metadata": {},
   "source": [
    "# Alan Hurtarte - 19000590\n",
    "# Hilda Eunice Rodas Rivas - 19000626\n",
    "\n",
    "---"
   ]
  },
  {
   "cell_type": "markdown",
   "metadata": {},
   "source": [
    "# AND"
   ]
  },
  {
   "cell_type": "code",
   "execution_count": 4,
   "metadata": {},
   "outputs": [
    {
     "name": "stdout",
     "output_type": "stream",
     "text": [
      "X: 0, X2: 0, R:0\n",
      "X: 1, X2: 0, R:0\n",
      "X: 0, X2: 1, R:0\n",
      "X: 1, X2: 1, R:1\n"
     ]
    }
   ],
   "source": [
    "import numpy as np\n",
    "\n",
    "def activation(value):\n",
    "    if value > 0:\n",
    "        return 1\n",
    "    return 0\n",
    "\n",
    "def and_nn(inputs):\n",
    "    weights = np.array([[30], [30], [-30]])\n",
    "    return np.matmul(inputs, weights)\n",
    "\n",
    "bias = 1\n",
    "x1 = 0 \n",
    "x2 = 0\n",
    "prediction = activation(and_nn(np.array([x1, x2, bias])))\n",
    "print('X: '+str(x1)+', X2: ' + str(x2) + ', R:' + str(prediction))\n",
    "\n",
    "\n",
    "x1 = 1\n",
    "x2 = 0\n",
    "prediction = activation(and_nn(np.array([x1, x2, bias])))\n",
    "print('X: '+str(x1)+', X2: ' + str(x2) + ', R:' + str(prediction))\n",
    "\n",
    "\n",
    "x1 = 0\n",
    "x2 = 1\n",
    "prediction = activation(and_nn(np.array([x1, x2, bias])))\n",
    "print('X: '+str(x1)+', X2: ' + str(x2) + ', R:' + str(prediction))\n",
    "\n",
    "\n",
    "x1 = 1\n",
    "x2 = 1\n",
    "prediction = activation(and_nn(np.array([x1, x2, bias])))\n",
    "print('X: '+str(x1)+', X2: ' + str(x2) + ', R:' + str(prediction))"
   ]
  },
  {
   "cell_type": "markdown",
   "metadata": {},
   "source": [
    "# OR"
   ]
  },
  {
   "cell_type": "code",
   "execution_count": 6,
   "metadata": {},
   "outputs": [
    {
     "name": "stdout",
     "output_type": "stream",
     "text": [
      "X: 0, X2: 0, R:0\n",
      "X: 1, X2: 0, R:1\n",
      "X: 0, X2: 1, R:1\n",
      "X: 1, X2: 1, R:1\n"
     ]
    }
   ],
   "source": [
    "def or_nn(inputs):\n",
    "    weights = np.array([[30], [3], [-2]])\n",
    "    return np.matmul(inputs, weights)\n",
    "\n",
    "bias = 1\n",
    "x1 = 0 \n",
    "x2 = 0\n",
    "prediction = activation(or_nn(np.array([x1, x2, bias])))\n",
    "print('X: '+str(x1)+', X2: ' + str(x2) + ', R:' + str(prediction))\n",
    "\n",
    "\n",
    "x1 = 1\n",
    "x2 = 0\n",
    "prediction = activation(or_nn(np.array([x1, x2, bias])))\n",
    "print('X: '+str(x1)+', X2: ' + str(x2) + ', R:' + str(prediction))\n",
    "\n",
    "\n",
    "x1 = 0\n",
    "x2 = 1\n",
    "prediction = activation(or_nn(np.array([x1, x2, bias])))\n",
    "print('X: '+str(x1)+', X2: ' + str(x2) + ', R:' + str(prediction))\n",
    "\n",
    "\n",
    "x1 = 1\n",
    "x2 = 1\n",
    "prediction = activation(or_nn(np.array([x1, x2, bias])))\n",
    "print('X: '+str(x1)+', X2: ' + str(x2) + ', R:' + str(prediction))"
   ]
  },
  {
   "cell_type": "markdown",
   "metadata": {},
   "source": [
    "# NOT"
   ]
  },
  {
   "cell_type": "code",
   "execution_count": 25,
   "metadata": {},
   "outputs": [
    {
     "name": "stdout",
     "output_type": "stream",
     "text": [
      "X: 0, R:1\n",
      "X: 1, R:0\n"
     ]
    }
   ],
   "source": [
    "def not_nn(inputs):\n",
    "    weights = np.array([[-30], [3]])\n",
    "    return np.matmul(inputs, weights)\n",
    "\n",
    "bias = 1\n",
    "x1 = 0 \n",
    "prediction = activation(not_nn(np.array([x1, bias])))\n",
    "print('X: '+str(x1)+ ', R:' + str(prediction))\n",
    "\n",
    "\n",
    "x1 = 1\n",
    "prediction = activation(not_nn(np.array([x1, bias])))\n",
    "print('X: '+str(x1)+ ', R:' + str(prediction))\n"
   ]
  },
  {
   "cell_type": "markdown",
   "metadata": {},
   "source": [
    "# XOR"
   ]
  },
  {
   "cell_type": "code",
   "execution_count": 28,
   "metadata": {},
   "outputs": [
    {
     "name": "stdout",
     "output_type": "stream",
     "text": [
      "X: 0, X2: 0, R:0\n",
      "X: 1, X2: 0, R:1\n",
      "X: 0, X2: 1, R:1\n",
      "X: 1, X2: 1, R:0\n"
     ]
    }
   ],
   "source": [
    "def xor_nn(inputs):\n",
    "    and_v = activation(and_nn(inputs))\n",
    "    or_v = activation(or_nn(inputs))\n",
    "    not_v = activation(not_nn(np.array([and_v, 1])))\n",
    "    and2_v = activation(and_nn(np.array([not_v, or_v, 1])))\n",
    "    return and2_v\n",
    "\n",
    "bias = 1\n",
    "x1 = 0\n",
    "x2 = 0\n",
    "prediction = xor_nn(np.array([x1, x2, bias]))\n",
    "print('X: '+str(x1)+', X2: ' + str(x2) + ', R:' + str(prediction))\n",
    "\n",
    "\n",
    "x1 = 1 \n",
    "x2 = 0\n",
    "prediction = xor_nn(np.array([x1, x2, bias]))\n",
    "print('X: '+str(x1)+', X2: ' + str(x2) + ', R:' + str(prediction))\n",
    "\n",
    "\n",
    "x1 = 0 \n",
    "x2 = 1\n",
    "prediction = xor_nn(np.array([x1, x2, bias]))\n",
    "print('X: '+str(x1)+', X2: ' + str(x2) + ', R:' + str(prediction))\n",
    "\n",
    "\n",
    "x1 = 1 \n",
    "x2 = 1\n",
    "prediction = xor_nn(np.array([x1, x2, bias]))\n",
    "print('X: '+str(x1)+', X2: ' + str(x2) + ', R:' + str(prediction))"
   ]
  }
 ],
 "metadata": {
  "kernelspec": {
   "display_name": "Python 3",
   "language": "python",
   "name": "python3"
  },
  "language_info": {
   "codemirror_mode": {
    "name": "ipython",
    "version": 3
   },
   "file_extension": ".py",
   "mimetype": "text/x-python",
   "name": "python",
   "nbconvert_exporter": "python",
   "pygments_lexer": "ipython3",
   "version": "3.7.3"
  }
 },
 "nbformat": 4,
 "nbformat_minor": 2
}
